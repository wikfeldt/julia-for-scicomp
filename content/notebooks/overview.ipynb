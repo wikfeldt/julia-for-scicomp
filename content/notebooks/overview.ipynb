{
 "cells": [
  {
   "cell_type": "markdown",
   "metadata": {},
   "source": [
    "# Types and multiple dispatch"
   ]
  },
  {
   "cell_type": "markdown",
   "metadata": {},
   "source": [
    "```{questions}\n",
    "- What are the main characteristics of Julia?\n",
    "- How can Julia code run at or near the speed of C?\n",
    "```"
   ]
  },
  {
   "cell_type": "markdown",
   "metadata": {},
   "source": [
    "```{objectives}\n",
    "- Get used to Julia's type system\n",
    "- Understand the concepts of JIT and multiple-dispatch\n",
    "- Learn to use code-inspection macros\n",
    "```"
   ]
  },
  {
   "cell_type": "markdown",
   "metadata": {},
   "source": [
    "## Types\n",
    "\n",
    "- Good practices, e.g. when to declare types\n",
    "- Explain how multiple dispatch works\n",
    "- Using macros, show differences in low-level code depending on how types are used"
   ]
  },
  {
   "cell_type": "markdown",
   "metadata": {},
   "source": [
    "Types are fundamental to the design and inner-workings of Julia. Julia's sophisticated type system is what enables \"multiple dispatch\" on function argument types - this is what sets the language apart from most other languages and makes it possible to write high-performance code. \n",
    "\n",
    "While Julia code does not require the declaration of types, some kinds of code become clearer and faster with declared types."
   ]
  },
  {
   "cell_type": "markdown",
   "metadata": {},
   "source": [
    "Since types play a fundamental role in Julia's design it's important to have a mental model of Julia's type system. There are two basic kinds of types in Julia:\n",
    "- **abstract types**: define the kind of a thing (what is it? what can I do with it?)\n",
    "- **concrete types**: describe data structures, i.e. concrete implementations"
   ]
  },
  {
   "cell_type": "code",
   "execution_count": 1,
   "metadata": {},
   "outputs": [
    {
     "data": {
      "text/plain": [
       "Int64"
      ]
     },
     "execution_count": 1,
     "metadata": {},
     "output_type": "execute_result"
    }
   ],
   "source": [
    "typeof(1)"
   ]
  },
  {
   "cell_type": "code",
   "execution_count": 2,
   "metadata": {},
   "outputs": [
    {
     "data": {
      "text/plain": [
       "Float64"
      ]
     },
     "execution_count": 2,
     "metadata": {},
     "output_type": "execute_result"
    }
   ],
   "source": [
    "typeof(1.0)"
   ]
  },
  {
   "cell_type": "markdown",
   "metadata": {},
   "source": [
    "Types in Julia form a \"type tree\", in which the leaves are concrete types."
   ]
  },
  {
   "cell_type": "markdown",
   "metadata": {},
   "source": [
    "![](../img/Type-hierarchy-for-julia-numbers.png)"
   ]
  },
  {
   "cell_type": "markdown",
   "metadata": {},
   "source": [
    "We can find supertypes and subtypes of a given type"
   ]
  },
  {
   "cell_type": "code",
   "execution_count": 3,
   "metadata": {},
   "outputs": [
    {
     "data": {
      "text/plain": [
       "(Float64, AbstractFloat, Real, Number, Any)"
      ]
     },
     "execution_count": 3,
     "metadata": {},
     "output_type": "execute_result"
    }
   ],
   "source": [
    "supertypes(Float64)"
   ]
  },
  {
   "cell_type": "code",
   "execution_count": 4,
   "metadata": {},
   "outputs": [
    {
     "data": {
      "text/plain": [
       "4-element Vector{Any}:\n",
       " AbstractFloat\n",
       " AbstractIrrational\n",
       " Integer\n",
       " Rational"
      ]
     },
     "execution_count": 4,
     "metadata": {},
     "output_type": "execute_result"
    }
   ],
   "source": [
    "subtypes(Real)"
   ]
  },
  {
   "cell_type": "markdown",
   "metadata": {},
   "source": [
    "### Derived types"
   ]
  },
  {
   "cell_type": "markdown",
   "metadata": {},
   "source": [
    "New types, i.e. new kinds of data structures, can be defined with the ``struct`` keyword, or ``mutable struct`` if you want to be able to change the values of fields in the new data structure. To take a classical example:"
   ]
  },
  {
   "cell_type": "code",
   "execution_count": 5,
   "metadata": {},
   "outputs": [],
   "source": [
    "struct Point\n",
    "    x::Float64\n",
    "    y::Float64\n",
    "end"
   ]
  },
  {
   "cell_type": "markdown",
   "metadata": {},
   "source": [
    "A new ``Point`` object can be defined by"
   ]
  },
  {
   "cell_type": "code",
   "execution_count": 6,
   "metadata": {},
   "outputs": [
    {
     "data": {
      "text/plain": [
       "Point(1.1, 2.2)"
      ]
     },
     "execution_count": 6,
     "metadata": {},
     "output_type": "execute_result"
    }
   ],
   "source": [
    "p = Point(1.1, 2.2)"
   ]
  },
  {
   "cell_type": "markdown",
   "metadata": {},
   "source": [
    "and its elements accessed by"
   ]
  },
  {
   "cell_type": "code",
   "execution_count": 7,
   "metadata": {},
   "outputs": [
    {
     "data": {
      "text/plain": [
       "1.1"
      ]
     },
     "execution_count": 7,
     "metadata": {},
     "output_type": "execute_result"
    }
   ],
   "source": [
    "p.x"
   ]
  },
  {
   "cell_type": "markdown",
   "metadata": {},
   "source": [
    "## Functions and methods"
   ]
  },
  {
   "cell_type": "markdown",
   "metadata": {},
   "source": [
    "Functions form the backbone of any Julia code. Their syntax is straighforward:"
   ]
  },
  {
   "cell_type": "code",
   "execution_count": 8,
   "metadata": {},
   "outputs": [
    {
     "data": {
      "text/plain": [
       "square (generic function with 1 method)"
      ]
     },
     "execution_count": 8,
     "metadata": {},
     "output_type": "execute_result"
    }
   ],
   "source": [
    "function square(x)\n",
    "    return x^2\n",
    "end"
   ]
  },
  {
   "cell_type": "code",
   "execution_count": 9,
   "metadata": {},
   "outputs": [
    {
     "data": {
      "text/plain": [
       "7.398400000000001"
      ]
     },
     "execution_count": 9,
     "metadata": {},
     "output_type": "execute_result"
    }
   ],
   "source": [
    "square(2.72)"
   ]
  },
  {
   "cell_type": "markdown",
   "metadata": {},
   "source": [
    "Note that our functions has no type annotations, and in many cases that's fine. For example, we can also pass integers or complex numbers to our `square` function.  \n",
    "The main reasons for adding type annotate are:\n",
    "- improve readability\n",
    "- catch errors\n",
    "- take advantage of **multiple dispatch**\n",
    "\n",
    "Let's see how we can add **methods** to the `square` **function** and dispatch on our `Point` type."
   ]
  },
  {
   "cell_type": "code",
   "execution_count": 10,
   "metadata": {},
   "outputs": [
    {
     "data": {
      "text/plain": [
       "square (generic function with 2 methods)"
      ]
     },
     "execution_count": 10,
     "metadata": {},
     "output_type": "execute_result"
    }
   ],
   "source": [
    "function square(p::Point)\n",
    "    return p.x^2 + p.y^2\n",
    "end"
   ]
  },
  {
   "cell_type": "markdown",
   "metadata": {},
   "source": [
    "Note the output, `square` is now a \"generic function with 2 methods\". We can list all methods defined for a function:"
   ]
  },
  {
   "cell_type": "code",
   "execution_count": 11,
   "metadata": {},
   "outputs": [
    {
     "data": {
      "text/html": [
       "# 2 methods for generic function <b>square</b>:<ul><li> square(p::<b>Point</b>) in Main at In[10]:1</li> <li> square(x) in Main at In[8]:1</li> </ul>"
      ],
      "text/plain": [
       "# 2 methods for generic function \"square\":\n",
       "[1] square(p::Point) in Main at In[10]:1\n",
       "[2] square(x) in Main at In[8]:1"
      ]
     },
     "execution_count": 11,
     "metadata": {},
     "output_type": "execute_result"
    }
   ],
   "source": [
    "methods(square)"
   ]
  },
  {
   "cell_type": "markdown",
   "metadata": {},
   "source": [
    "and call the method for our point:"
   ]
  },
  {
   "cell_type": "code",
   "execution_count": 12,
   "metadata": {},
   "outputs": [
    {
     "data": {
      "text/plain": [
       "6.050000000000001"
      ]
     },
     "execution_count": 12,
     "metadata": {},
     "output_type": "execute_result"
    }
   ],
   "source": [
    "square(p)"
   ]
  },
  {
   "cell_type": "markdown",
   "metadata": {},
   "source": [
    "To conclude:\n",
    "\n",
    "* A **function** describing the \"what\" can have multiple **methods** describing the \"how\"\n",
    "* **Multiple dispatch**: Julia selects the method to run based on the types of all input arguments and chooses the most specialized one.\n",
    "* Types can have parameters, i.e. `Vector{Float64}`. We can use the notation `T where T<:SomeSuperType` to address *sets* of types."
   ]
  },
  {
   "cell_type": "markdown",
   "metadata": {},
   "source": [
    "* mention speed for derived datatypes"
   ]
  },
  {
   "cell_type": "markdown",
   "metadata": {},
   "source": [
    "## Code introspection\n",
    "\n",
    "- @code_lowered\n",
    "- @code_typed & @code_warntype\n",
    "- @code_llvm\n",
    "- @code_native"
   ]
  },
  {
   "cell_type": "markdown",
   "metadata": {},
   "source": [
    "**use pi-estimation example and run introspection on different function definitions**"
   ]
  },
  {
   "cell_type": "markdown",
   "metadata": {},
   "source": [
    "## Structure of a Julia program\n",
    "\n",
    "- look at a largish Julia package\n",
    "- discuss scope and its rules"
   ]
  },
  {
   "cell_type": "markdown",
   "metadata": {},
   "source": [
    "## See also\n",
    "\n",
    "- https://slides.com/valentinchuravy/julia-parallelism#/1/1"
   ]
  },
  {
   "cell_type": "code",
   "execution_count": null,
   "metadata": {},
   "outputs": [],
   "source": []
  }
 ],
 "metadata": {
  "kernelspec": {
   "display_name": "Julia 1.6.0",
   "language": "julia",
   "name": "julia-1.6"
  },
  "language_info": {
   "file_extension": ".jl",
   "mimetype": "application/julia",
   "name": "julia",
   "version": "1.6.0"
  }
 },
 "nbformat": 4,
 "nbformat_minor": 4
}
