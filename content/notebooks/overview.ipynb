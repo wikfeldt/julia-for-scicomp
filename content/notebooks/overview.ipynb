{
 "cells": [
  {
   "cell_type": "markdown",
   "metadata": {},
   "source": [
    "# Types and multiple dispatch"
   ]
  },
  {
   "cell_type": "markdown",
   "metadata": {},
   "source": [
    "```{questions}\n",
    "- What are the main characteristics of Julia?\n",
    "- How can Julia code run at or near the speed of C?\n",
    "```"
   ]
  },
  {
   "cell_type": "markdown",
   "metadata": {},
   "source": [
    "```{objectives}\n",
    "- Get used to Julia's type system\n",
    "- Understand the concepts of JIT and multiple-dispatch\n",
    "- Learn to use code-inspection macros\n",
    "```"
   ]
  },
  {
   "cell_type": "markdown",
   "metadata": {},
   "source": [
    "## Types\n",
    "\n",
    "- Explain types in more detail than in 20-min quickstart\n",
    "- Good practices, e.g. when to declare types\n",
    "- Explain how multiple dispatch works\n",
    "- Using macros, show differences in low-level code depending on how types are used"
   ]
  },
  {
   "cell_type": "markdown",
   "metadata": {},
   "source": [
    "Types are fundamental to the philosophy and inner-workings of Julia.\n",
    "\n",
    "\n",
    "- \"Many Julia programmers may never feel the need to write code that\n",
    "  explicitly uses types. Some kinds of programming, however, become\n",
    "  clearer, simpler, faster and more robust with declared types.\""
   ]
  },
  {
   "cell_type": "markdown",
   "metadata": {},
   "source": [
    "![](../img/Type-hierarchy-for-julia-numbers.png)"
   ]
  },
  {
   "cell_type": "markdown",
   "metadata": {},
   "source": [
    "* **Concrete types** describe data structures, i.e. concrete implementations.\n",
    "* **Abstract types** define the kind of a thing (What is it? What can I do with it?), i.e. an informal interface. This is also known as **duck-typing**.\n"
   ]
  },
  {
   "cell_type": "markdown",
   "metadata": {},
   "source": [
    "## Multiple dispatch\n",
    "\n",
    "* A **function** (the what) can have multiple **methods** (the how).\n",
    "* **Multiple dispatch**: Julia selects the method to run based on the types of all input arguments and chooses the most specialized one.\n",
    "* Types can have parameters, i.e. `Vector{Float64}`. We can use the notation `T where T<:SomeSuperType` to address *sets* of types."
   ]
  },
  {
   "cell_type": "markdown",
   "metadata": {},
   "source": [
    "## Code introspection\n",
    "\n",
    "- @code_lowered\n",
    "- @code_typed & @code_warntype\n",
    "- @code_llvm\n",
    "- @code_native"
   ]
  },
  {
   "cell_type": "markdown",
   "metadata": {},
   "source": [
    "## Structure of a Julia program\n",
    "\n",
    "- look at a largish Julia package\n",
    "- discuss scope and its rules"
   ]
  },
  {
   "cell_type": "markdown",
   "metadata": {},
   "source": [
    "## See also\n",
    "\n",
    "- https://slides.com/valentinchuravy/julia-parallelism#/1/1"
   ]
  },
  {
   "cell_type": "code",
   "execution_count": null,
   "metadata": {},
   "outputs": [],
   "source": []
  }
 ],
 "metadata": {
  "kernelspec": {
   "display_name": "Julia 1.6.0",
   "language": "julia",
   "name": "julia-1.6"
  },
  "language_info": {
   "file_extension": ".jl",
   "mimetype": "application/julia",
   "name": "julia",
   "version": "1.6.0"
  }
 },
 "nbformat": 4,
 "nbformat_minor": 4
}
