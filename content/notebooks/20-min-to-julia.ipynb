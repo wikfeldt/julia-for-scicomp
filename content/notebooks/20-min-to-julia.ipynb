{
 "cells": [
  {
   "cell_type": "markdown",
   "metadata": {},
   "source": [
    "# 20 minutes to Julia"
   ]
  },
  {
   "cell_type": "markdown",
   "metadata": {},
   "source": [
    "```{questions}\n",
    "\n",
    "- What does the basic syntax of Julia look like?\n",
    "- How does Julia handle types?\n",
    "```"
   ]
  },
  {
   "cell_type": "markdown",
   "metadata": {},
   "source": [
    "```{objectives}\n",
    "- Get familiar with the basics of Julia in 20 minutes.\n",
    "```"
   ]
  },
  {
   "cell_type": "markdown",
   "metadata": {},
   "source": [
    "This section give a compact overview of the basic features\n",
    "and syntax of Julia."
   ]
  },
  {
   "cell_type": "markdown",
   "metadata": {},
   "source": [
    "## Running Julia\n",
    "\n",
    "After installing Julia, you can run Julia code in various ways:\n",
    "\n",
    "1. [REPL](https://docs.julialang.org/en/v1/stdlib/REPL/)\n",
    "\n",
    "   A REPL (read-evaluate-print loop) reads input, evaluates\n",
    "   the expression, prints any output and then loops back.\n",
    "   Julia's REPL is highly versatile and is useful for exploratory work.\n",
    "   The Julia REPL has four modes:\n",
    "   \n",
    "     - **Julian mode** - default mode where prompt starts with ``julia>``.\n",
    "       Here you enter Julia expressions and see output.       \n",
    "     - Type ``?`` to go to **Help mode** where prompt starts with ``help?>``.\n",
    "       Julia will print help/documentation on anything you enter.\n",
    "     - Type ``;`` to go to **Shell mode** where prompt starts with\n",
    "       ``shell>``. You can type any shell commands as you would from terminal.\n",
    "     - Type ``]`` to go to **Package mode** where prompt starts with\n",
    "       ``(@v1.5) pkg>`` (if you have Julia version 1.5). Here you can add\n",
    "       packages with ``add`, update packages with ``update`` etc. To see\n",
    "       all options type ``?``.\n",
    "     - To exit any non-Julian mode, hit Escape key.\n",
    "       \n",
    "2. [Jupyter](https://jupyter.org/)\n",
    "\n",
    "   Jupyter notebooks are familiar to many Python and R users. WRITEME\n",
    "\n",
    "3. [Pluto.jl](https://github.com/fonsp/Pluto.jl)\n",
    "\n",
    "   Pluto offers a similar notebook experience to Jupyter, but in contrast\n",
    "   to Jupyter\n",
    "   Pluto understands global references between cells, and\n",
    "   reactively re-evaluates cells affected by a code change.\n",
    "\n",
    "4. Juno or VSCode\n",
    "   \n",
    "\n",
    "```{callout}\n",
    "   You can copy code cells below by pressing the button in the top right\n",
    "   corner, and paste into the REPL, a notebook or and IDE.\n",
    "```"
   ]
  },
  {
   "cell_type": "markdown",
   "metadata": {},
   "source": [
    "## Fundamentals"
   ]
  },
  {
   "cell_type": "markdown",
   "metadata": {},
   "source": [
    "### Variables\n",
    "\n",
    "We only need to specify name and value of variables,\n",
    "Julia figures out the type:"
   ]
  },
  {
   "cell_type": "code",
   "execution_count": 59,
   "metadata": {},
   "outputs": [],
   "source": [
    "A = 3.14               # scalar, float\n",
    "B = 100                # scalar, integer\n",
    "C = [1, 2, 3]          # 3-element array\n",
    "D = [1 2 3]            # 1x3 array \n",
    "E = [1 2; 3 4]         # 2-by-2 matrix\n",
    "S = \"hello world\"      # string\n",
    "x = true;              # boolean. The semicolon suppresses output"
   ]
  },
  {
   "cell_type": "markdown",
   "metadata": {},
   "source": [
    "To see the type of a variable use `typeof`:"
   ]
  },
  {
   "cell_type": "code",
   "execution_count": 35,
   "metadata": {},
   "outputs": [
    {
     "data": {
      "text/plain": [
       "Float64"
      ]
     },
     "execution_count": 35,
     "metadata": {},
     "output_type": "execute_result"
    }
   ],
   "source": [
    "typeof(A)"
   ]
  },
  {
   "cell_type": "markdown",
   "metadata": {},
   "source": [
    "We can also use the `println` function along with the interpolation operator `$`:"
   ]
  },
  {
   "cell_type": "code",
   "execution_count": 32,
   "metadata": {},
   "outputs": [
    {
     "name": "stdout",
     "output_type": "stream",
     "text": [
      "A has type Float64\n",
      "B has type Int64\n",
      "C has type Array{Int64,1}\n",
      "D has type Array{Int64,2}\n",
      "E has type Array{Int64,2}\n",
      "S has type String\n",
      "x has type Bool\n"
     ]
    }
   ],
   "source": [
    "println(\"A has type $(typeof(A))\")\n",
    "println(\"B has type $(typeof(B))\")\n",
    "println(\"C has type $(typeof(C))\")\n",
    "println(\"D has type $(typeof(D))\")\n",
    "println(\"E has type $(typeof(E))\")\n",
    "println(\"S has type $(typeof(S))\")\n",
    "println(\"x has type $(typeof(x))\")"
   ]
  },
  {
   "cell_type": "markdown",
   "metadata": {},
   "source": [
    "### Inf, NaN and nothing"
   ]
  },
  {
   "cell_type": "code",
   "execution_count": 39,
   "metadata": {},
   "outputs": [
    {
     "data": {
      "text/plain": [
       "Inf"
      ]
     },
     "execution_count": 39,
     "metadata": {},
     "output_type": "execute_result"
    }
   ],
   "source": [
    "1/0"
   ]
  },
  {
   "cell_type": "code",
   "execution_count": 43,
   "metadata": {},
   "outputs": [
    {
     "data": {
      "text/plain": [
       "-Inf"
      ]
     },
     "execution_count": 43,
     "metadata": {},
     "output_type": "execute_result"
    }
   ],
   "source": [
    "-1/0"
   ]
  },
  {
   "cell_type": "code",
   "execution_count": 47,
   "metadata": {},
   "outputs": [
    {
     "data": {
      "text/plain": [
       "-Inf"
      ]
     },
     "execution_count": 47,
     "metadata": {},
     "output_type": "execute_result"
    }
   ],
   "source": [
    "100 - Inf"
   ]
  },
  {
   "cell_type": "code",
   "execution_count": 45,
   "metadata": {},
   "outputs": [
    {
     "data": {
      "text/plain": [
       "NaN"
      ]
     },
     "execution_count": 45,
     "metadata": {},
     "output_type": "execute_result"
    }
   ],
   "source": [
    "0/0"
   ]
  },
  {
   "cell_type": "markdown",
   "metadata": {},
   "source": [
    "`nothing` is used by convention when there is no value to return. The type of `nothing` is `Nothing`"
   ]
  },
  {
   "cell_type": "code",
   "execution_count": 55,
   "metadata": {},
   "outputs": [],
   "source": [
    "n = nothing"
   ]
  },
  {
   "cell_type": "code",
   "execution_count": 57,
   "metadata": {},
   "outputs": [
    {
     "name": "stdout",
     "output_type": "stream",
     "text": [
      "nothing\n"
     ]
    }
   ],
   "source": [
    "println(n)"
   ]
  },
  {
   "cell_type": "code",
   "execution_count": 56,
   "metadata": {},
   "outputs": [
    {
     "data": {
      "text/plain": [
       "Nothing"
      ]
     },
     "execution_count": 56,
     "metadata": {},
     "output_type": "execute_result"
    }
   ],
   "source": [
    "typeof(n)"
   ]
  },
  {
   "cell_type": "markdown",
   "metadata": {},
   "source": [
    "TODO: mention also overflow and BigInt?"
   ]
  },
  {
   "cell_type": "markdown",
   "metadata": {},
   "source": [
    "### Arrays and other data structures\n",
    "\n",
    "Constructing a few simple arrays:"
   ]
  },
  {
   "cell_type": "code",
   "execution_count": 66,
   "metadata": {},
   "outputs": [],
   "source": [
    "rand(5)                       # random length-5 array, uniform numbers in [0,1)\n",
    "rand(Int, 5)                  # random length-5 array with integers\n",
    "rand(12,4)                    # random 12×4 array\n",
    "ones(5)                       # length-5 array with ones of type Float64 \n",
    "zeros(4,4);                   # 4x4 array with zeros of type Float"
   ]
  },
  {
   "cell_type": "markdown",
   "metadata": {},
   "source": [
    "Using ranges to create arrays"
   ]
  },
  {
   "cell_type": "code",
   "execution_count": 84,
   "metadata": {},
   "outputs": [
    {
     "data": {
      "text/plain": [
       "5-element Array{Int64,1}:\n",
       " 1\n",
       " 2\n",
       " 3\n",
       " 4\n",
       " 5"
      ]
     },
     "execution_count": 84,
     "metadata": {},
     "output_type": "execute_result"
    }
   ],
   "source": [
    "a = [1:5;]    # note the semicolon"
   ]
  },
  {
   "cell_type": "code",
   "execution_count": 86,
   "metadata": {},
   "outputs": [
    {
     "data": {
      "text/plain": [
       "5-element Array{Float64,1}:\n",
       " 0.0\n",
       " 1.5707963267948966\n",
       " 3.141592653589793\n",
       " 4.71238898038469\n",
       " 6.283185307179586"
      ]
     },
     "execution_count": 86,
     "metadata": {},
     "output_type": "execute_result"
    }
   ],
   "source": [
    "b = [range(0,stop=2*pi,length=5);]"
   ]
  },
  {
   "cell_type": "markdown",
   "metadata": {},
   "source": [
    "Without semicolon you get a 1-element array with a range "
   ]
  },
  {
   "cell_type": "code",
   "execution_count": 97,
   "metadata": {},
   "outputs": [
    {
     "data": {
      "text/plain": [
       "1-element Array{UnitRange{Int64},1}:\n",
       " 1:5"
      ]
     },
     "execution_count": 97,
     "metadata": {},
     "output_type": "execute_result"
    }
   ],
   "source": [
    "a = [1:5]"
   ]
  },
  {
   "cell_type": "markdown",
   "metadata": {},
   "source": [
    "Indexing and slicing"
   ]
  },
  {
   "cell_type": "code",
   "execution_count": 118,
   "metadata": {},
   "outputs": [
    {
     "data": {
      "text/plain": [
       "2"
      ]
     },
     "execution_count": 118,
     "metadata": {},
     "output_type": "execute_result"
    }
   ],
   "source": [
    "a = [2, 1, 5, 4, 3]\n",
    "a[1]     # indexing starts at 1"
   ]
  },
  {
   "cell_type": "code",
   "execution_count": 119,
   "metadata": {},
   "outputs": [
    {
     "data": {
      "text/plain": [
       "3-element Array{Int64,1}:\n",
       " 2\n",
       " 1\n",
       " 5"
      ]
     },
     "execution_count": 119,
     "metadata": {},
     "output_type": "execute_result"
    }
   ],
   "source": [
    "a[1:3]"
   ]
  },
  {
   "cell_type": "code",
   "execution_count": 120,
   "metadata": {},
   "outputs": [
    {
     "data": {
      "text/plain": [
       "3-element Array{Int64,1}:\n",
       " 5\n",
       " 4\n",
       " 3"
      ]
     },
     "execution_count": 120,
     "metadata": {},
     "output_type": "execute_result"
    }
   ],
   "source": [
    "a[3:end]   # end represents the last index"
   ]
  },
  {
   "cell_type": "code",
   "execution_count": 121,
   "metadata": {},
   "outputs": [
    {
     "data": {
      "text/plain": [
       "3-element Array{Int64,1}:\n",
       " 2\n",
       " 5\n",
       " 3"
      ]
     },
     "execution_count": 121,
     "metadata": {},
     "output_type": "execute_result"
    }
   ],
   "source": [
    "a[1:2:end]   # using a step size of 2"
   ]
  },
  {
   "cell_type": "markdown",
   "metadata": {},
   "source": [
    "Methods working on arrays"
   ]
  },
  {
   "cell_type": "code",
   "execution_count": 124,
   "metadata": {},
   "outputs": [
    {
     "data": {
      "text/plain": [
       "3"
      ]
     },
     "execution_count": 124,
     "metadata": {},
     "output_type": "execute_result"
    }
   ],
   "source": [
    "length(a)\n",
    "first(a)\n",
    "last(a)\n",
    "minimum(a)\n",
    "maximum(a)\n",
    "argmin(a)\n",
    "argmax(a)"
   ]
  },
  {
   "cell_type": "markdown",
   "metadata": {},
   "source": [
    "Tuples "
   ]
  },
  {
   "cell_type": "code",
   "execution_count": 111,
   "metadata": {},
   "outputs": [
    {
     "data": {
      "text/plain": [
       "Tuple{Int64,Int64,Int64}"
      ]
     },
     "execution_count": 111,
     "metadata": {},
     "output_type": "execute_result"
    }
   ],
   "source": [
    "tup = (1, 2, 3)  \n",
    "typeof(tup)"
   ]
  },
  {
   "cell_type": "markdown",
   "metadata": {},
   "source": [
    "Tuples are immutable"
   ]
  },
  {
   "cell_type": "code",
   "execution_count": 112,
   "metadata": {},
   "outputs": [
    {
     "ename": "LoadError",
     "evalue": "MethodError: no method matching setindex!(::Tuple{Int64,Int64,Int64}, ::Int64, ::Int64)",
     "output_type": "error",
     "traceback": [
      "MethodError: no method matching setindex!(::Tuple{Int64,Int64,Int64}, ::Int64, ::Int64)",
      "",
      "Stacktrace:",
      " [1] top-level scope at In[112]:1",
      " [2] include_string(::Function, ::Module, ::String, ::String) at ./loading.jl:1091"
     ]
    }
   ],
   "source": [
    "tup[1] = 0"
   ]
  },
  {
   "cell_type": "markdown",
   "metadata": {},
   "source": [
    "Dictionaries"
   ]
  },
  {
   "cell_type": "code",
   "execution_count": 125,
   "metadata": {},
   "outputs": [
    {
     "data": {
      "text/plain": [
       "Dict{String,Int64} with 2 entries:\n",
       "  \"B\" => 2\n",
       "  \"A\" => 1"
      ]
     },
     "execution_count": 125,
     "metadata": {},
     "output_type": "execute_result"
    }
   ],
   "source": [
    "d = Dict([(\"A\", 1), (\"B\", 2)])\n",
    "# d = Dict(\"A\"=>1, \"B\"=>2)    # alternative syntax"
   ]
  },
  {
   "cell_type": "markdown",
   "metadata": {},
   "source": [
    "## Types\n",
    "\n",
    "- booleans, numbers (int, float), strings and chars\n",
    "- vectors, matrices\n",
    "- tuples, named tuples\n",
    "- dictionaries\n",
    "- composite types - structs\n",
    "- abstract types - e.g. supertype(Float64)\n",
    "     "
   ]
  },
  {
   "cell_type": "markdown",
   "metadata": {},
   "source": [
    "Above we have seen examples of variables with types Float64, Int64, String, Bool and Nothing."
   ]
  },
  {
   "cell_type": "markdown",
   "metadata": {},
   "source": [
    "## Loops and conditionals\n",
    "\n",
    "- for, if-else, while,\n",
    "- iterators"
   ]
  },
  {
   "cell_type": "code",
   "execution_count": 70,
   "metadata": {},
   "outputs": [
    {
     "name": "stdout",
     "output_type": "stream",
     "text": [
      "1\n",
      "2\n",
      "3\n",
      "4\n",
      "5\n"
     ]
    }
   ],
   "source": [
    "for i in [1,2,3,4,5]\n",
    "    println(i)\n",
    "end"
   ]
  },
  {
   "cell_type": "markdown",
   "metadata": {},
   "source": [
    "## Functions\n",
    "\n",
    "- named and anonymous functions\n",
    "- optional arguments\n",
    "- keyword arguments\n",
    "- multiple dispatch\n",
    "- splatting"
   ]
  },
  {
   "cell_type": "markdown",
   "metadata": {},
   "source": [
    "## Exception handling"
   ]
  },
  {
   "cell_type": "markdown",
   "metadata": {},
   "source": [
    "Exceptions are thrown when an unexpected condition has occurred"
   ]
  },
  {
   "cell_type": "code",
   "execution_count": 130,
   "metadata": {},
   "outputs": [
    {
     "ename": "LoadError",
     "evalue": "DomainError with -1.0:\nsqrt will only return a complex result if called with a complex argument. Try sqrt(Complex(x)).",
     "output_type": "error",
     "traceback": [
      "DomainError with -1.0:\nsqrt will only return a complex result if called with a complex argument. Try sqrt(Complex(x)).",
      "",
      "Stacktrace:",
      " [1] throw_complex_domainerror(::Symbol, ::Float64) at ./math.jl:33",
      " [2] sqrt at ./math.jl:573 [inlined]",
      " [3] sqrt(::Int64) at ./math.jl:599",
      " [4] top-level scope at In[130]:1",
      " [5] include_string(::Function, ::Module, ::String, ::String) at ./loading.jl:1091"
     ]
    }
   ],
   "source": [
    "sqrt(-1)"
   ]
  },
  {
   "cell_type": "markdown",
   "metadata": {},
   "source": [
    "Handle exceptions with a try/catch block"
   ]
  },
  {
   "cell_type": "code",
   "execution_count": 133,
   "metadata": {},
   "outputs": [
    {
     "name": "stdout",
     "output_type": "stream",
     "text": [
      "caught it DomainError(-1.0, \"sqrt will only return a complex result if called with a complex argument. Try sqrt(Complex(x)).\")\n"
     ]
    }
   ],
   "source": [
    "try\n",
    "    sqrt(-1)\n",
    "catch e\n",
    "    println(\"caught it $e\")\n",
    "end"
   ]
  },
  {
   "cell_type": "markdown",
   "metadata": {},
   "source": [
    "Exceptions can be created explicitly with `throw`"
   ]
  },
  {
   "cell_type": "code",
   "execution_count": 137,
   "metadata": {},
   "outputs": [
    {
     "data": {
      "text/plain": [
       "myExp (generic function with 1 method)"
      ]
     },
     "execution_count": 137,
     "metadata": {},
     "output_type": "execute_result"
    }
   ],
   "source": [
    "function myExp(x)\n",
    "    if x>=0\n",
    "        return exp(-x)\n",
    "    else\n",
    "        throw(DomainError(x, \"argument must be non-negative\"))\n",
    "    end\n",
    "end"
   ]
  },
  {
   "cell_type": "code",
   "execution_count": 138,
   "metadata": {},
   "outputs": [
    {
     "data": {
      "text/plain": [
       "0.36787944117144233"
      ]
     },
     "execution_count": 138,
     "metadata": {},
     "output_type": "execute_result"
    }
   ],
   "source": [
    "myExp(1.0)"
   ]
  },
  {
   "cell_type": "code",
   "execution_count": 139,
   "metadata": {},
   "outputs": [
    {
     "ename": "LoadError",
     "evalue": "DomainError with -1.0:\nargument must be non-negative",
     "output_type": "error",
     "traceback": [
      "DomainError with -1.0:\nargument must be non-negative",
      "",
      "Stacktrace:",
      " [1] myExp(::Float64) at ./In[137]:5",
      " [2] top-level scope at In[139]:1",
      " [3] include_string(::Function, ::Module, ::String, ::String) at ./loading.jl:1091"
     ]
    }
   ],
   "source": [
    "myExp(-1.0)"
   ]
  },
  {
   "cell_type": "markdown",
   "metadata": {},
   "source": [
    "## Packages"
   ]
  },
  {
   "cell_type": "markdown",
   "metadata": {},
   "source": [
    "## REPL and IDEs\n",
    "\n",
    "A REPL (read-evaluate-print loop) reads input, evaluates\n",
    "the expression, prints any output and then loops back.\n",
    "Julia's REPL is highly versatile:"
   ]
  },
  {
   "cell_type": "code",
   "execution_count": 7,
   "metadata": {
    "collapsed": true,
    "jupyter": {
     "outputs_hidden": true
    }
   },
   "outputs": [
    {
     "name": "stdout",
     "output_type": "stream",
     "text": [
      "search: \u001b[0m\u001b[1ms\u001b[22m\u001b[0m\u001b[1mu\u001b[22m\u001b[0m\u001b[1mm\u001b[22m \u001b[0m\u001b[1ms\u001b[22m\u001b[0m\u001b[1mu\u001b[22m\u001b[0m\u001b[1mm\u001b[22m! \u001b[0m\u001b[1ms\u001b[22m\u001b[0m\u001b[1mu\u001b[22m\u001b[0m\u001b[1mm\u001b[22mmary cum\u001b[0m\u001b[1ms\u001b[22m\u001b[0m\u001b[1mu\u001b[22m\u001b[0m\u001b[1mm\u001b[22m cum\u001b[0m\u001b[1ms\u001b[22m\u001b[0m\u001b[1mu\u001b[22m\u001b[0m\u001b[1mm\u001b[22m! i\u001b[0m\u001b[1ms\u001b[22mn\u001b[0m\u001b[1mu\u001b[22m\u001b[0m\u001b[1mm\u001b[22meric Ver\u001b[0m\u001b[1ms\u001b[22mionN\u001b[0m\u001b[1mu\u001b[22m\u001b[0m\u001b[1mm\u001b[22mber i\u001b[0m\u001b[1ms\u001b[22ms\u001b[0m\u001b[1mu\u001b[22mbnor\u001b[0m\u001b[1mm\u001b[22mal\n",
      "\n"
     ]
    },
    {
     "data": {
      "text/latex": [
       "\\begin{verbatim}\n",
       "sum(f, itr)\n",
       "\\end{verbatim}\n",
       "Sum the results of calling function \\texttt{f} on each element of \\texttt{itr}.\n",
       "\n",
       "The return type is \\texttt{Int} for signed integers of less than system word size, and \\texttt{UInt} for unsigned integers of less than system word size.  For all other arguments, a common return type is found to which all arguments are promoted.\n",
       "\n",
       "\\section{Examples}\n",
       "\\begin{verbatim}\n",
       "julia> sum(abs2, [2; 3; 4])\n",
       "29\n",
       "\\end{verbatim}\n",
       "Note the important difference between \\texttt{sum(A)} and \\texttt{reduce(+, A)} for arrays with small integer eltype:\n",
       "\n",
       "\\begin{verbatim}\n",
       "julia> sum(Int8[100, 28])\n",
       "128\n",
       "\n",
       "julia> reduce(+, Int8[100, 28])\n",
       "-128\n",
       "\\end{verbatim}\n",
       "In the former case, the integers are widened to system word size and therefore the result is 128. In the latter case, no such widening happens and integer overflow results in -128.\n",
       "\n",
       "\\rule{\\textwidth}{1pt}\n",
       "\\begin{verbatim}\n",
       "sum(itr)\n",
       "\\end{verbatim}\n",
       "Returns the sum of all elements in a collection.\n",
       "\n",
       "The return type is \\texttt{Int} for signed integers of less than system word size, and \\texttt{UInt} for unsigned integers of less than system word size.  For all other arguments, a common return type is found to which all arguments are promoted.\n",
       "\n",
       "\\section{Examples}\n",
       "\\begin{verbatim}\n",
       "julia> sum(1:20)\n",
       "210\n",
       "\\end{verbatim}\n",
       "\\rule{\\textwidth}{1pt}\n",
       "\\begin{verbatim}\n",
       "sum(A::AbstractArray; dims)\n",
       "\\end{verbatim}\n",
       "Sum elements of an array over the given dimensions.\n",
       "\n",
       "\\section{Examples}\n",
       "\\begin{verbatim}\n",
       "julia> A = [1 2; 3 4]\n",
       "2×2 Array{Int64,2}:\n",
       " 1  2\n",
       " 3  4\n",
       "\n",
       "julia> sum(A, dims=1)\n",
       "1×2 Array{Int64,2}:\n",
       " 4  6\n",
       "\n",
       "julia> sum(A, dims=2)\n",
       "2×1 Array{Int64,2}:\n",
       " 3\n",
       " 7\n",
       "\\end{verbatim}\n"
      ],
      "text/markdown": [
       "```\n",
       "sum(f, itr)\n",
       "```\n",
       "\n",
       "Sum the results of calling function `f` on each element of `itr`.\n",
       "\n",
       "The return type is `Int` for signed integers of less than system word size, and `UInt` for unsigned integers of less than system word size.  For all other arguments, a common return type is found to which all arguments are promoted.\n",
       "\n",
       "# Examples\n",
       "\n",
       "```jldoctest\n",
       "julia> sum(abs2, [2; 3; 4])\n",
       "29\n",
       "```\n",
       "\n",
       "Note the important difference between `sum(A)` and `reduce(+, A)` for arrays with small integer eltype:\n",
       "\n",
       "```jldoctest\n",
       "julia> sum(Int8[100, 28])\n",
       "128\n",
       "\n",
       "julia> reduce(+, Int8[100, 28])\n",
       "-128\n",
       "```\n",
       "\n",
       "In the former case, the integers are widened to system word size and therefore the result is 128. In the latter case, no such widening happens and integer overflow results in -128.\n",
       "\n",
       "---\n",
       "\n",
       "```\n",
       "sum(itr)\n",
       "```\n",
       "\n",
       "Returns the sum of all elements in a collection.\n",
       "\n",
       "The return type is `Int` for signed integers of less than system word size, and `UInt` for unsigned integers of less than system word size.  For all other arguments, a common return type is found to which all arguments are promoted.\n",
       "\n",
       "# Examples\n",
       "\n",
       "```jldoctest\n",
       "julia> sum(1:20)\n",
       "210\n",
       "```\n",
       "\n",
       "---\n",
       "\n",
       "```\n",
       "sum(A::AbstractArray; dims)\n",
       "```\n",
       "\n",
       "Sum elements of an array over the given dimensions.\n",
       "\n",
       "# Examples\n",
       "\n",
       "```jldoctest\n",
       "julia> A = [1 2; 3 4]\n",
       "2×2 Array{Int64,2}:\n",
       " 1  2\n",
       " 3  4\n",
       "\n",
       "julia> sum(A, dims=1)\n",
       "1×2 Array{Int64,2}:\n",
       " 4  6\n",
       "\n",
       "julia> sum(A, dims=2)\n",
       "2×1 Array{Int64,2}:\n",
       " 3\n",
       " 7\n",
       "```\n"
      ],
      "text/plain": [
       "\u001b[36m  sum(f, itr)\u001b[39m\n",
       "\n",
       "  Sum the results of calling function \u001b[36mf\u001b[39m on each element of \u001b[36mitr\u001b[39m.\n",
       "\n",
       "  The return type is \u001b[36mInt\u001b[39m for signed integers of less than system word size,\n",
       "  and \u001b[36mUInt\u001b[39m for unsigned integers of less than system word size. For all other\n",
       "  arguments, a common return type is found to which all arguments are\n",
       "  promoted.\n",
       "\n",
       "\u001b[1m  Examples\u001b[22m\n",
       "\u001b[1m  ≡≡≡≡≡≡≡≡≡≡\u001b[22m\n",
       "\n",
       "\u001b[36m  julia> sum(abs2, [2; 3; 4])\u001b[39m\n",
       "\u001b[36m  29\u001b[39m\n",
       "\n",
       "  Note the important difference between \u001b[36msum(A)\u001b[39m and \u001b[36mreduce(+, A)\u001b[39m for arrays\n",
       "  with small integer eltype:\n",
       "\n",
       "\u001b[36m  julia> sum(Int8[100, 28])\u001b[39m\n",
       "\u001b[36m  128\u001b[39m\n",
       "\u001b[36m  \u001b[39m\n",
       "\u001b[36m  julia> reduce(+, Int8[100, 28])\u001b[39m\n",
       "\u001b[36m  -128\u001b[39m\n",
       "\n",
       "  In the former case, the integers are widened to system word size and\n",
       "  therefore the result is 128. In the latter case, no such widening happens\n",
       "  and integer overflow results in -128.\n",
       "\n",
       "  ────────────────────────────────────────────────────────────────────────────\n",
       "\n",
       "\u001b[36m  sum(itr)\u001b[39m\n",
       "\n",
       "  Returns the sum of all elements in a collection.\n",
       "\n",
       "  The return type is \u001b[36mInt\u001b[39m for signed integers of less than system word size,\n",
       "  and \u001b[36mUInt\u001b[39m for unsigned integers of less than system word size. For all other\n",
       "  arguments, a common return type is found to which all arguments are\n",
       "  promoted.\n",
       "\n",
       "\u001b[1m  Examples\u001b[22m\n",
       "\u001b[1m  ≡≡≡≡≡≡≡≡≡≡\u001b[22m\n",
       "\n",
       "\u001b[36m  julia> sum(1:20)\u001b[39m\n",
       "\u001b[36m  210\u001b[39m\n",
       "\n",
       "  ────────────────────────────────────────────────────────────────────────────\n",
       "\n",
       "\u001b[36m  sum(A::AbstractArray; dims)\u001b[39m\n",
       "\n",
       "  Sum elements of an array over the given dimensions.\n",
       "\n",
       "\u001b[1m  Examples\u001b[22m\n",
       "\u001b[1m  ≡≡≡≡≡≡≡≡≡≡\u001b[22m\n",
       "\n",
       "\u001b[36m  julia> A = [1 2; 3 4]\u001b[39m\n",
       "\u001b[36m  2×2 Array{Int64,2}:\u001b[39m\n",
       "\u001b[36m   1  2\u001b[39m\n",
       "\u001b[36m   3  4\u001b[39m\n",
       "\u001b[36m  \u001b[39m\n",
       "\u001b[36m  julia> sum(A, dims=1)\u001b[39m\n",
       "\u001b[36m  1×2 Array{Int64,2}:\u001b[39m\n",
       "\u001b[36m   4  6\u001b[39m\n",
       "\u001b[36m  \u001b[39m\n",
       "\u001b[36m  julia> sum(A, dims=2)\u001b[39m\n",
       "\u001b[36m  2×1 Array{Int64,2}:\u001b[39m\n",
       "\u001b[36m   3\u001b[39m\n",
       "\u001b[36m   7\u001b[39m"
      ]
     },
     "execution_count": 7,
     "metadata": {},
     "output_type": "execute_result"
    }
   ],
   "source": [
    "?sum\n",
    "   "
   ]
  },
  {
   "cell_type": "markdown",
   "metadata": {},
   "source": [
    "- Pluto.jl\n",
    "- Weave.jl\n",
    "- Jupyter  \n",
    "  "
   ]
  },
  {
   "cell_type": "markdown",
   "metadata": {},
   "source": [
    "## Style conventions"
   ]
  },
  {
   "cell_type": "markdown",
   "metadata": {},
   "source": [
    "- Names of variables are in lower case.\n",
    "- Word separation can be indicated by underscores ('_'), but use of underscores is discouraged unless the name would be hard to read otherwise.\n",
    "- Names of Types and Modules begin with a capital letter and word separation is shown with upper camel case instead of underscores.\n",
    "- Names of functions and macros are in lower case, without underscores.\n",
    "- Functions that write to their arguments have names that end in !. These are sometimes called \"mutat- ing\" or \"in-place\" functions because they are intended to produce changes in their arguments after the function is called, not just return a value."
   ]
  },
  {
   "cell_type": "markdown",
   "metadata": {},
   "source": [
    "## See also\n",
    "\n",
    "- [Learn X in Y minutes (Where X = Julia)](https://learnxinyminutes.com/docs/julia/)\n",
    "- Berhane, Fisseha. (2019) R vs Julia Cheatsheet. Available at:\n",
    "  https://datascience-enthusiast.com/R/R_Julia_cheat_sheet.html. (Accessed\n",
    "  December 21, 2019).\n",
    "- (2019) The Fast Track to Julia. Available at:\n",
    "  https://juliadocs.github.io/Julia-Cheat-Sheet/. (Accessed December\n",
    "  21, 2019).\n",
    "- Gregory, Victoria, Andrij Stachurski, and Natasha Watkins. (2017a)\n",
    "  Julia Cheatsheet. Available at:\n",
    "  https://cheatsheets.quantecon.org/julia-cheatsheet.html. (Accessed\n",
    "  December 21, 2019).\n",
    "- Gregory, Victoria, Andrij Stachurski, and Natasha Watkins. (2017b)\n",
    "  MATLAB–Python–Julia Cheatsheet. Available at:\n",
    "  https://cheatsheets.quantecon.org/. (Accessed December 21, 2019).\n",
    "- Johnson, Steven G. (2017) Julia & IJulia Cheat-Sheet (for 18.Xxx at\n",
    "  MIT). Available at:\n",
    "  http://math.mit.edu/%7Estevenj/Julia-cheatsheet.pdf. (Accessed\n",
    "  December 21, 2019).\n",
    "- Bezanson, Jeff, Stefan Karpinski, Viral Shah, and Alan\n",
    "  Edelman. (2020) The Julia Language. The Julia Project. Available at:\n",
    "  https://raw.githubusercontent.com/JuliaLang/docs.julialang.org/assets/julia-1.5.3.pdf."
   ]
  },
  {
   "cell_type": "code",
   "execution_count": null,
   "metadata": {},
   "outputs": [],
   "source": []
  }
 ],
 "metadata": {
  "kernelspec": {
   "display_name": "Julia 1.5.3",
   "language": "julia",
   "name": "julia-1.5"
  },
  "language_info": {
   "file_extension": ".jl",
   "mimetype": "application/julia",
   "name": "julia",
   "version": "1.5.3"
  }
 },
 "nbformat": 4,
 "nbformat_minor": 4
}
