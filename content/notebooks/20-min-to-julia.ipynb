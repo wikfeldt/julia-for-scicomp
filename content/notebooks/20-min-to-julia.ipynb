{
 "cells": [
  {
   "cell_type": "markdown",
   "metadata": {},
   "source": [
    "# 20 minutes to Julia"
   ]
  },
  {
   "cell_type": "markdown",
   "metadata": {},
   "source": [
    "```{questions}\n",
    "\n",
    "- What does the basic syntax of Julia look like?\n",
    "- How does Julia handle types?\n",
    "```"
   ]
  },
  {
   "cell_type": "markdown",
   "metadata": {},
   "source": [
    "```{objectives}\n",
    "- Get familiar with the basics of Julia in 20 minutes.\n",
    "```"
   ]
  },
  {
   "cell_type": "markdown",
   "metadata": {},
   "source": [
    "This section give a compact overview of the basic features\n",
    "and syntax of Julia."
   ]
  },
  {
   "cell_type": "markdown",
   "metadata": {},
   "source": [
    "## Running Julia\n",
    "\n",
    "After installing Julia, you can run Julia code in various ways:\n",
    "\n",
    "1. [REPL](https://docs.julialang.org/en/v1/stdlib/REPL/)\n",
    "\n",
    "   A REPL (read-evaluate-print loop) reads input, evaluates\n",
    "   the expression, prints any output and then loops back.\n",
    "   Julia's REPL is highly versatile and is useful for exploratory work.\n",
    "   The Julia REPL has four modes:\n",
    "   \n",
    "     - **Julian mode** - default mode where prompt starts with ``julia>``.\n",
    "       Here you enter Julia expressions and see output.       \n",
    "     - Type ``?`` to go to **Help mode** where prompt starts with ``help?>``.\n",
    "       Julia will print help/documentation on anything you enter.\n",
    "     - Type ``;`` to go to **Shell mode** where prompt starts with\n",
    "       ``shell>``. You can type any shell commands as you would from terminal.\n",
    "     - Type ``]`` to go to **Package mode** where prompt starts with\n",
    "       ``(@v1.5) pkg>`` (if you have Julia version 1.5). Here you can add\n",
    "       packages with ``add`, update packages with ``update`` etc. To see\n",
    "       all options type ``?``.\n",
    "     - To exit any non-Julian mode, hit Escape key.\n",
    "       \n",
    "2. [Jupyter](https://jupyter.org/)\n",
    "\n",
    "   Jupyter notebooks are familiar to many Python and R users. WRITEME\n",
    "\n",
    "3. [Pluto.jl](https://github.com/fonsp/Pluto.jl)\n",
    "\n",
    "   Pluto offers a similar notebook experience to Jupyter, but in contrast\n",
    "   to Jupyter\n",
    "   Pluto understands global references between cells, and\n",
    "   reactively re-evaluates cells affected by a code change.\n",
    "\n",
    "4. Juno or VSCode\n",
    "   \n",
    "\n",
    "```{callout}\n",
    "   You can copy code cells below by pressing the button in the top right\n",
    "   corner, and paste into the REPL, a notebook or and IDE.\n",
    "```"
   ]
  },
  {
   "cell_type": "markdown",
   "metadata": {},
   "source": [
    "## Fundamentals"
   ]
  },
  {
   "cell_type": "markdown",
   "metadata": {},
   "source": [
    "### Variables\n",
    "\n",
    "We only need to specify name and value of variables,\n",
    "Julia figures out the type:"
   ]
  },
  {
   "cell_type": "code",
   "execution_count": 140,
   "metadata": {},
   "outputs": [],
   "source": [
    "A = 3.14               # scalar, float\n",
    "B = 100                # scalar, integer\n",
    "S = \"hello world\"      # string\n",
    "x = true;              # boolean. The semicolon suppresses output"
   ]
  },
  {
   "cell_type": "markdown",
   "metadata": {},
   "source": [
    "To see the type of a variable use `typeof`:"
   ]
  },
  {
   "cell_type": "code",
   "execution_count": 142,
   "metadata": {},
   "outputs": [
    {
     "data": {
      "text/plain": [
       "Float64"
      ]
     },
     "execution_count": 142,
     "metadata": {},
     "output_type": "execute_result"
    }
   ],
   "source": [
    "typeof(A)"
   ]
  },
  {
   "cell_type": "markdown",
   "metadata": {},
   "source": [
    "We can also use the `println` function along with the interpolation operator `$`:"
   ]
  },
  {
   "cell_type": "code",
   "execution_count": 32,
   "metadata": {},
   "outputs": [
    {
     "name": "stdout",
     "output_type": "stream",
     "text": [
      "A has type Float64\n",
      "B has type Int64\n",
      "C has type Array{Int64,1}\n",
      "D has type Array{Int64,2}\n",
      "E has type Array{Int64,2}\n",
      "S has type String\n",
      "x has type Bool\n"
     ]
    }
   ],
   "source": [
    "println(\"A has type $(typeof(A))\")\n",
    "println(\"B has type $(typeof(B))\")\n",
    "println(\"C has type $(typeof(C))\")\n",
    "println(\"D has type $(typeof(D))\")\n",
    "println(\"E has type $(typeof(E))\")\n",
    "println(\"S has type $(typeof(S))\")\n",
    "println(\"x has type $(typeof(x))\")"
   ]
  },
  {
   "cell_type": "markdown",
   "metadata": {},
   "source": [
    "We can also use UTF-8 symbols as well as LaTeX syntax for special characters (type e.g. `\\alpha` and `TAB`)"
   ]
  },
  {
   "cell_type": "code",
   "execution_count": 146,
   "metadata": {},
   "outputs": [
    {
     "data": {
      "text/plain": [
       "String"
      ]
     },
     "execution_count": 146,
     "metadata": {},
     "output_type": "execute_result"
    }
   ],
   "source": [
    "😺 = \"smiley_cat\" \n",
    "typeof(😺)"
   ]
  },
  {
   "cell_type": "code",
   "execution_count": 1,
   "metadata": {},
   "outputs": [
    {
     "data": {
      "text/plain": [
       "0.1"
      ]
     },
     "execution_count": 1,
     "metadata": {},
     "output_type": "execute_result"
    }
   ],
   "source": [
    "α = 0.1"
   ]
  },
  {
   "cell_type": "code",
   "execution_count": 5,
   "metadata": {},
   "outputs": [
    {
     "data": {
      "text/plain": [
       "π = 3.1415926535897..."
      ]
     },
     "execution_count": 5,
     "metadata": {},
     "output_type": "execute_result"
    }
   ],
   "source": [
    "π # some are predefined"
   ]
  },
  {
   "cell_type": "markdown",
   "metadata": {},
   "source": [
    "### Inf, NaN and nothing"
   ]
  },
  {
   "cell_type": "code",
   "execution_count": 39,
   "metadata": {},
   "outputs": [
    {
     "data": {
      "text/plain": [
       "Inf"
      ]
     },
     "execution_count": 39,
     "metadata": {},
     "output_type": "execute_result"
    }
   ],
   "source": [
    "1/0"
   ]
  },
  {
   "cell_type": "code",
   "execution_count": 43,
   "metadata": {},
   "outputs": [
    {
     "data": {
      "text/plain": [
       "-Inf"
      ]
     },
     "execution_count": 43,
     "metadata": {},
     "output_type": "execute_result"
    }
   ],
   "source": [
    "-1/0"
   ]
  },
  {
   "cell_type": "code",
   "execution_count": 47,
   "metadata": {},
   "outputs": [
    {
     "data": {
      "text/plain": [
       "-Inf"
      ]
     },
     "execution_count": 47,
     "metadata": {},
     "output_type": "execute_result"
    }
   ],
   "source": [
    "100 - Inf"
   ]
  },
  {
   "cell_type": "code",
   "execution_count": 45,
   "metadata": {},
   "outputs": [
    {
     "data": {
      "text/plain": [
       "NaN"
      ]
     },
     "execution_count": 45,
     "metadata": {},
     "output_type": "execute_result"
    }
   ],
   "source": [
    "0/0"
   ]
  },
  {
   "cell_type": "markdown",
   "metadata": {},
   "source": [
    "`nothing` is used by convention when there is no value to return. The type of `nothing` is `Nothing`"
   ]
  },
  {
   "cell_type": "code",
   "execution_count": 55,
   "metadata": {},
   "outputs": [],
   "source": [
    "n = nothing"
   ]
  },
  {
   "cell_type": "code",
   "execution_count": 57,
   "metadata": {},
   "outputs": [
    {
     "name": "stdout",
     "output_type": "stream",
     "text": [
      "nothing\n"
     ]
    }
   ],
   "source": [
    "println(n)"
   ]
  },
  {
   "cell_type": "code",
   "execution_count": 56,
   "metadata": {},
   "outputs": [
    {
     "data": {
      "text/plain": [
       "Nothing"
      ]
     },
     "execution_count": 56,
     "metadata": {},
     "output_type": "execute_result"
    }
   ],
   "source": [
    "typeof(n)"
   ]
  },
  {
   "cell_type": "markdown",
   "metadata": {},
   "source": [
    "TODO: mention also overflow and BigInt?"
   ]
  },
  {
   "cell_type": "markdown",
   "metadata": {},
   "source": [
    "### Arrays and other data structures"
   ]
  },
  {
   "cell_type": "markdown",
   "metadata": {},
   "source": [
    "Arrays are created using the square brackets"
   ]
  },
  {
   "cell_type": "code",
   "execution_count": 13,
   "metadata": {},
   "outputs": [
    {
     "data": {
      "text/plain": [
       "4-element Vector{Int64}:\n",
       " 1\n",
       " 2\n",
       " 3\n",
       " 4"
      ]
     },
     "execution_count": 13,
     "metadata": {},
     "output_type": "execute_result"
    }
   ],
   "source": [
    "a = [1, 2, 3, 4]"
   ]
  },
  {
   "cell_type": "markdown",
   "metadata": {},
   "source": [
    "Forcing a specific type"
   ]
  },
  {
   "cell_type": "code",
   "execution_count": 14,
   "metadata": {},
   "outputs": [
    {
     "data": {
      "text/plain": [
       "4-element Vector{Float64}:\n",
       " 1.0\n",
       " 2.0\n",
       " 3.0\n",
       " 4.0"
      ]
     },
     "execution_count": 14,
     "metadata": {},
     "output_type": "execute_result"
    }
   ],
   "source": [
    "a = Float64[1,2,3,4]"
   ]
  },
  {
   "cell_type": "markdown",
   "metadata": {},
   "source": [
    "Using ranges to create arrays"
   ]
  },
  {
   "cell_type": "code",
   "execution_count": 84,
   "metadata": {},
   "outputs": [
    {
     "data": {
      "text/plain": [
       "5-element Array{Int64,1}:\n",
       " 1\n",
       " 2\n",
       " 3\n",
       " 4\n",
       " 5"
      ]
     },
     "execution_count": 84,
     "metadata": {},
     "output_type": "execute_result"
    }
   ],
   "source": [
    "a = [1:5;]    # note the semicolon"
   ]
  },
  {
   "cell_type": "code",
   "execution_count": 15,
   "metadata": {},
   "outputs": [
    {
     "data": {
      "text/plain": [
       "5-element Vector{Float64}:\n",
       " 0.0\n",
       " 1.5707963267948966\n",
       " 3.141592653589793\n",
       " 4.71238898038469\n",
       " 6.283185307179586"
      ]
     },
     "execution_count": 15,
     "metadata": {},
     "output_type": "execute_result"
    }
   ],
   "source": [
    "b = [range(0,stop=2π,length=5);]"
   ]
  },
  {
   "cell_type": "markdown",
   "metadata": {},
   "source": [
    "Without semicolon you get a 1-element array with a range "
   ]
  },
  {
   "cell_type": "code",
   "execution_count": 97,
   "metadata": {},
   "outputs": [
    {
     "data": {
      "text/plain": [
       "1-element Array{UnitRange{Int64},1}:\n",
       " 1:5"
      ]
     },
     "execution_count": 97,
     "metadata": {},
     "output_type": "execute_result"
    }
   ],
   "source": [
    "a = [1:5]"
   ]
  },
  {
   "cell_type": "markdown",
   "metadata": {},
   "source": [
    "Special arrays"
   ]
  },
  {
   "cell_type": "code",
   "execution_count": 25,
   "metadata": {},
   "outputs": [
    {
     "data": {
      "text/plain": [
       "5-element Vector{Float64}:\n",
       " 0.0\n",
       " 0.0\n",
       " 0.0\n",
       " 0.0\n",
       " 0.0"
      ]
     },
     "execution_count": 25,
     "metadata": {},
     "output_type": "execute_result"
    }
   ],
   "source": [
    "rand(5)                       # random length-5 array, uniform numbers in [0,1)\n",
    "rand(Int, 5)                  # random length-5 array with integers\n",
    "ones(5)                       # length-5 array with ones of type Float64 \n",
    "zeros(5)                      # length-5 array with zeros of type Float64 "
   ]
  },
  {
   "cell_type": "markdown",
   "metadata": {},
   "source": [
    "#### Indexing and slicing"
   ]
  },
  {
   "cell_type": "code",
   "execution_count": 118,
   "metadata": {},
   "outputs": [
    {
     "data": {
      "text/plain": [
       "2"
      ]
     },
     "execution_count": 118,
     "metadata": {},
     "output_type": "execute_result"
    }
   ],
   "source": [
    "a = [2, 1, 5, 4, 3]\n",
    "a[1]     # indexing starts at 1"
   ]
  },
  {
   "cell_type": "code",
   "execution_count": 119,
   "metadata": {},
   "outputs": [
    {
     "data": {
      "text/plain": [
       "3-element Array{Int64,1}:\n",
       " 2\n",
       " 1\n",
       " 5"
      ]
     },
     "execution_count": 119,
     "metadata": {},
     "output_type": "execute_result"
    }
   ],
   "source": [
    "a[1:3]"
   ]
  },
  {
   "cell_type": "code",
   "execution_count": 120,
   "metadata": {},
   "outputs": [
    {
     "data": {
      "text/plain": [
       "3-element Array{Int64,1}:\n",
       " 5\n",
       " 4\n",
       " 3"
      ]
     },
     "execution_count": 120,
     "metadata": {},
     "output_type": "execute_result"
    }
   ],
   "source": [
    "a[3:end]   # end represents the last index"
   ]
  },
  {
   "cell_type": "code",
   "execution_count": 121,
   "metadata": {},
   "outputs": [
    {
     "data": {
      "text/plain": [
       "3-element Array{Int64,1}:\n",
       " 2\n",
       " 5\n",
       " 3"
      ]
     },
     "execution_count": 121,
     "metadata": {},
     "output_type": "execute_result"
    }
   ],
   "source": [
    "a[1:2:end]   # using a step size of 2"
   ]
  },
  {
   "cell_type": "markdown",
   "metadata": {},
   "source": [
    "#### Multidimensional arrays"
   ]
  },
  {
   "cell_type": "code",
   "execution_count": 17,
   "metadata": {},
   "outputs": [
    {
     "data": {
      "text/plain": [
       "2×2 Matrix{Int64}:\n",
       " 1  2\n",
       " 3  4"
      ]
     },
     "execution_count": 17,
     "metadata": {},
     "output_type": "execute_result"
    }
   ],
   "source": [
    "matrix = [1 2; 3 4]"
   ]
  },
  {
   "cell_type": "code",
   "execution_count": 27,
   "metadata": {},
   "outputs": [],
   "source": [
    "rand(12,4)                    # random 12×4 array\n",
    "zeros(4,4,4,4);               # 4x4 array with zeros of type Float"
   ]
  },
  {
   "cell_type": "markdown",
   "metadata": {},
   "source": [
    "Methods for looking at array properties"
   ]
  },
  {
   "cell_type": "code",
   "execution_count": 30,
   "metadata": {},
   "outputs": [
    {
     "data": {
      "text/plain": [
       "(13,)"
      ]
     },
     "execution_count": 30,
     "metadata": {},
     "output_type": "execute_result"
    }
   ],
   "source": [
    "length(a)\n",
    "first(a)\n",
    "last(a)\n",
    "minimum(a)\n",
    "maximum(a)\n",
    "argmin(a)\n",
    "argmax(a)\n",
    "size(a)"
   ]
  },
  {
   "cell_type": "markdown",
   "metadata": {},
   "source": [
    "#### Manipulating arrays"
   ]
  },
  {
   "cell_type": "code",
   "execution_count": 20,
   "metadata": {},
   "outputs": [
    {
     "data": {
      "text/plain": [
       "6-element Vector{Float64}:\n",
       "  1.0\n",
       "  2.0\n",
       "  3.0\n",
       "  4.0\n",
       " 10.0\n",
       " 10.0"
      ]
     },
     "execution_count": 20,
     "metadata": {},
     "output_type": "execute_result"
    }
   ],
   "source": [
    "push!(a, 10)   # exclamation mark in function names means they change their input argument in-place"
   ]
  },
  {
   "cell_type": "code",
   "execution_count": 22,
   "metadata": {},
   "outputs": [
    {
     "data": {
      "text/plain": [
       "8-element Vector{Float64}:\n",
       " 42.0\n",
       " 42.0\n",
       "  1.0\n",
       "  2.0\n",
       "  3.0\n",
       "  4.0\n",
       " 10.0\n",
       " 10.0"
      ]
     },
     "execution_count": 22,
     "metadata": {},
     "output_type": "execute_result"
    }
   ],
   "source": [
    "insert!(a, 1, 42)  # insert in given position"
   ]
  },
  {
   "cell_type": "code",
   "execution_count": 24,
   "metadata": {},
   "outputs": [
    {
     "data": {
      "text/plain": [
       "13-element Vector{Float64}:\n",
       "  42.0\n",
       "  42.0\n",
       "   1.0\n",
       "   2.0\n",
       "   3.0\n",
       "   4.0\n",
       "  10.0\n",
       "  10.0\n",
       " 100.0\n",
       " 101.0\n",
       " 102.0\n",
       " 100.0\n",
       " 101.0"
      ]
     },
     "execution_count": 24,
     "metadata": {},
     "output_type": "execute_result"
    }
   ],
   "source": [
    "append!(a, [100, 101]) # append another array to the end"
   ]
  },
  {
   "cell_type": "markdown",
   "metadata": {},
   "source": [
    "#### Tuples "
   ]
  },
  {
   "cell_type": "code",
   "execution_count": 111,
   "metadata": {},
   "outputs": [
    {
     "data": {
      "text/plain": [
       "Tuple{Int64,Int64,Int64}"
      ]
     },
     "execution_count": 111,
     "metadata": {},
     "output_type": "execute_result"
    }
   ],
   "source": [
    "tup = (1, 2, 3)  \n",
    "typeof(tup)"
   ]
  },
  {
   "cell_type": "markdown",
   "metadata": {},
   "source": [
    "Tuples are immutable"
   ]
  },
  {
   "cell_type": "code",
   "execution_count": 112,
   "metadata": {},
   "outputs": [
    {
     "ename": "LoadError",
     "evalue": "MethodError: no method matching setindex!(::Tuple{Int64,Int64,Int64}, ::Int64, ::Int64)",
     "output_type": "error",
     "traceback": [
      "MethodError: no method matching setindex!(::Tuple{Int64,Int64,Int64}, ::Int64, ::Int64)",
      "",
      "Stacktrace:",
      " [1] top-level scope at In[112]:1",
      " [2] include_string(::Function, ::Module, ::String, ::String) at ./loading.jl:1091"
     ]
    }
   ],
   "source": [
    "tup[1] = 0"
   ]
  },
  {
   "cell_type": "markdown",
   "metadata": {},
   "source": [
    "#### Dictionaries"
   ]
  },
  {
   "cell_type": "code",
   "execution_count": 125,
   "metadata": {},
   "outputs": [
    {
     "data": {
      "text/plain": [
       "Dict{String,Int64} with 2 entries:\n",
       "  \"B\" => 2\n",
       "  \"A\" => 1"
      ]
     },
     "execution_count": 125,
     "metadata": {},
     "output_type": "execute_result"
    }
   ],
   "source": [
    "d = Dict([(\"A\", 1), (\"B\", 2)])\n",
    "# d = Dict(\"A\"=>1, \"B\"=>2)    # alternative syntax"
   ]
  },
  {
   "cell_type": "markdown",
   "metadata": {},
   "source": [
    "## Types"
   ]
  },
  {
   "cell_type": "markdown",
   "metadata": {},
   "source": [
    "### Primitive and abstract types\n",
    "- Numeric types, that represent numbers\n",
    "    - `Number`\n",
    "        - `Real` (example: `a::Real`)\n",
    "        - `Integer` (example: `b::Int`)\n",
    "            - `Int16`, `Int32`, `Int64`,..., `UInt64`\n",
    "        - `AbstractFloat` \n",
    "            - `Float16`, `Float32`,`Float64`,...\n",
    "- Strings (`String`, `Char`,...)\n",
    "- `Bool` is a data type that can be either `true` or `false`.\n",
    "\n",
    "### Composite types\n",
    "- `complex` (`Complex{Int64}`,...) with `1 + 0.1im`\n",
    "- Arrays (`Array{Int64,1}`,...)\n",
    "- Mappings\n",
    "    - `Dict`: a dictionary, also called a hashmap (`Dict{String,Int64}`,...)\n",
    "\n"
   ]
  },
  {
   "cell_type": "markdown",
   "metadata": {},
   "source": []
  },
  {
   "cell_type": "markdown",
   "metadata": {},
   "source": [
    "- booleans, numbers (int, float), strings and chars\n",
    "- vectors, matrices\n",
    "- tuples, named tuples\n",
    "- dictionaries\n",
    "- composite types - structs\n",
    "- abstract types - e.g. supertype(Float64)\n",
    "     "
   ]
  },
  {
   "cell_type": "markdown",
   "metadata": {},
   "source": [
    "Above we have seen examples of variables with types Float64, Int64, String, Bool and Nothing."
   ]
  },
  {
   "cell_type": "markdown",
   "metadata": {},
   "source": [
    "## Loops and conditionals\n",
    "\n",
    "- for, if-else, while,\n",
    "- iterators"
   ]
  },
  {
   "cell_type": "code",
   "execution_count": 70,
   "metadata": {},
   "outputs": [
    {
     "name": "stdout",
     "output_type": "stream",
     "text": [
      "1\n",
      "2\n",
      "3\n",
      "4\n",
      "5\n"
     ]
    }
   ],
   "source": [
    "for i in [1,2,3,4,5]\n",
    "    println(i)\n",
    "end"
   ]
  },
  {
   "cell_type": "markdown",
   "metadata": {},
   "source": [
    "## Functions\n",
    "\n",
    "- named and anonymous functions\n",
    "- optional arguments\n",
    "- keyword arguments\n",
    "- multiple dispatch\n",
    "- splatting"
   ]
  },
  {
   "cell_type": "markdown",
   "metadata": {},
   "source": [
    "## Exception handling"
   ]
  },
  {
   "cell_type": "markdown",
   "metadata": {},
   "source": [
    "Exceptions are thrown when an unexpected condition has occurred"
   ]
  },
  {
   "cell_type": "code",
   "execution_count": 130,
   "metadata": {},
   "outputs": [
    {
     "ename": "LoadError",
     "evalue": "DomainError with -1.0:\nsqrt will only return a complex result if called with a complex argument. Try sqrt(Complex(x)).",
     "output_type": "error",
     "traceback": [
      "DomainError with -1.0:\nsqrt will only return a complex result if called with a complex argument. Try sqrt(Complex(x)).",
      "",
      "Stacktrace:",
      " [1] throw_complex_domainerror(::Symbol, ::Float64) at ./math.jl:33",
      " [2] sqrt at ./math.jl:573 [inlined]",
      " [3] sqrt(::Int64) at ./math.jl:599",
      " [4] top-level scope at In[130]:1",
      " [5] include_string(::Function, ::Module, ::String, ::String) at ./loading.jl:1091"
     ]
    }
   ],
   "source": [
    "sqrt(-1)"
   ]
  },
  {
   "cell_type": "markdown",
   "metadata": {},
   "source": [
    "Handle exceptions with a try/catch block"
   ]
  },
  {
   "cell_type": "code",
   "execution_count": 133,
   "metadata": {},
   "outputs": [
    {
     "name": "stdout",
     "output_type": "stream",
     "text": [
      "caught it DomainError(-1.0, \"sqrt will only return a complex result if called with a complex argument. Try sqrt(Complex(x)).\")\n"
     ]
    }
   ],
   "source": [
    "try\n",
    "    sqrt(-1)\n",
    "catch e\n",
    "    println(\"caught it $e\")\n",
    "end"
   ]
  },
  {
   "cell_type": "markdown",
   "metadata": {},
   "source": [
    "Exceptions can be created explicitly with `throw`"
   ]
  },
  {
   "cell_type": "code",
   "execution_count": 137,
   "metadata": {},
   "outputs": [
    {
     "data": {
      "text/plain": [
       "myExp (generic function with 1 method)"
      ]
     },
     "execution_count": 137,
     "metadata": {},
     "output_type": "execute_result"
    }
   ],
   "source": [
    "function myExp(x)\n",
    "    if x>=0\n",
    "        return exp(-x)\n",
    "    else\n",
    "        throw(DomainError(x, \"argument must be non-negative\"))\n",
    "    end\n",
    "end"
   ]
  },
  {
   "cell_type": "code",
   "execution_count": 138,
   "metadata": {},
   "outputs": [
    {
     "data": {
      "text/plain": [
       "0.36787944117144233"
      ]
     },
     "execution_count": 138,
     "metadata": {},
     "output_type": "execute_result"
    }
   ],
   "source": [
    "myExp(1.0)"
   ]
  },
  {
   "cell_type": "code",
   "execution_count": 139,
   "metadata": {},
   "outputs": [
    {
     "ename": "LoadError",
     "evalue": "DomainError with -1.0:\nargument must be non-negative",
     "output_type": "error",
     "traceback": [
      "DomainError with -1.0:\nargument must be non-negative",
      "",
      "Stacktrace:",
      " [1] myExp(::Float64) at ./In[137]:5",
      " [2] top-level scope at In[139]:1",
      " [3] include_string(::Function, ::Module, ::String, ::String) at ./loading.jl:1091"
     ]
    }
   ],
   "source": [
    "myExp(-1.0)"
   ]
  },
  {
   "cell_type": "markdown",
   "metadata": {},
   "source": [
    "## Packages"
   ]
  },
  {
   "cell_type": "markdown",
   "metadata": {},
   "source": [
    "## REPL and IDEs\n",
    "\n",
    "A REPL (read-evaluate-print loop) reads input, evaluates\n",
    "the expression, prints any output and then loops back.\n",
    "Julia's REPL is highly versatile:"
   ]
  },
  {
   "cell_type": "markdown",
   "metadata": {},
   "source": [
    "- Pluto.jl\n",
    "- Weave.jl\n",
    "- Jupyter  \n",
    "  "
   ]
  },
  {
   "cell_type": "markdown",
   "metadata": {},
   "source": [
    "## Style conventions"
   ]
  },
  {
   "cell_type": "markdown",
   "metadata": {},
   "source": [
    "- Names of variables are in lower case.\n",
    "- Word separation can be indicated by underscores ('_'), but use of underscores is discouraged unless the name would be hard to read otherwise.\n",
    "- Names of Types and Modules begin with a capital letter and word separation is shown with upper camel case instead of underscores.\n",
    "- Names of functions and macros are in lower case, without underscores.\n",
    "- Functions that write to their arguments have names that end in !. These are sometimes called \"mutat- ing\" or \"in-place\" functions because they are intended to produce changes in their arguments after the function is called, not just return a value."
   ]
  },
  {
   "cell_type": "markdown",
   "metadata": {},
   "source": [
    "## See also\n",
    "\n",
    "- [Learn X in Y minutes (Where X = Julia)](https://learnxinyminutes.com/docs/julia/)\n",
    "- Berhane, Fisseha. (2019) R vs Julia Cheatsheet. Available at:\n",
    "  https://datascience-enthusiast.com/R/R_Julia_cheat_sheet.html. (Accessed\n",
    "  December 21, 2019).\n",
    "- (2019) The Fast Track to Julia. Available at:\n",
    "  https://juliadocs.github.io/Julia-Cheat-Sheet/. (Accessed December\n",
    "  21, 2019).\n",
    "- Gregory, Victoria, Andrij Stachurski, and Natasha Watkins. (2017a)\n",
    "  Julia Cheatsheet. Available at:\n",
    "  https://cheatsheets.quantecon.org/julia-cheatsheet.html. (Accessed\n",
    "  December 21, 2019).\n",
    "- Gregory, Victoria, Andrij Stachurski, and Natasha Watkins. (2017b)\n",
    "  MATLAB–Python–Julia Cheatsheet. Available at:\n",
    "  https://cheatsheets.quantecon.org/. (Accessed December 21, 2019).\n",
    "- Johnson, Steven G. (2017) Julia & IJulia Cheat-Sheet (for 18.Xxx at\n",
    "  MIT). Available at:\n",
    "  http://math.mit.edu/%7Estevenj/Julia-cheatsheet.pdf. (Accessed\n",
    "  December 21, 2019).\n",
    "- Bezanson, Jeff, Stefan Karpinski, Viral Shah, and Alan\n",
    "  Edelman. (2020) The Julia Language. The Julia Project. Available at:\n",
    "  https://raw.githubusercontent.com/JuliaLang/docs.julialang.org/assets/julia-1.5.3.pdf."
   ]
  },
  {
   "cell_type": "code",
   "execution_count": null,
   "metadata": {},
   "outputs": [],
   "source": []
  }
 ],
 "metadata": {
  "kernelspec": {
   "display_name": "Julia 1.6.0",
   "language": "julia",
   "name": "julia-1.6"
  },
  "language_info": {
   "file_extension": ".jl",
   "mimetype": "application/julia",
   "name": "julia",
   "version": "1.6.0"
  }
 },
 "nbformat": 4,
 "nbformat_minor": 4
}
